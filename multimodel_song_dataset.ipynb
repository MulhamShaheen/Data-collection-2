{
 "cells": [
  {
   "cell_type": "code",
   "execution_count": 38,
   "metadata": {
    "collapsed": true,
    "ExecuteTime": {
     "end_time": "2024-01-07T12:48:30.383489400Z",
     "start_time": "2024-01-07T12:48:30.350084300Z"
    }
   },
   "outputs": [],
   "source": [
    "from parser.dataset import create_subset\n",
    "import pandas as pd\n",
    "import librosa\n",
    "\n",
    "import os\n",
    "import re"
   ]
  },
  {
   "cell_type": "markdown",
   "source": [
    "Пример парсинга плейлиста со музыкальными свойствами"
   ],
   "metadata": {
    "collapsed": false
   }
  },
  {
   "cell_type": "code",
   "execution_count": 6,
   "outputs": [
    {
     "name": "stdout",
     "output_type": "stream",
     "text": [
      "{'title': 'Background for New Years Resolutions', 'artists': ['Instrumental Soft Jazz'], 'album': 'Happy Music for Remote Work - Big Band with Vibraphone', 'popularity': 0, 'camelot': '2A', 'BPM': 119.0, 'key': 'E♭ Minor', 'acousticness': 0.861, 'happiness': 0.637, 'instrumentalness': 0.182, 'liveness': 0.102, 'loudness': -13.157, 'danceability': 0.765, 'energy': 0.268}\n"
     ]
    },
    {
     "data": {
      "text/plain": "                                               title  \\\n0               Background for New Years Resolutions   \n1         Jazz Duo - Background for Working Remotely   \n2  Nu Jazz - Background Music for After Dinner Co...   \n3                       Suave Music for Java Moments   \n4      Suave Atmosphere for All Night Study Sessions   \n5                                    Background Jazz   \n6           Background Jazz for your New Home Office   \n7                    Vivacious Backdrops for Tribeca   \n8   NO Drums Jazz - Background Music for Ordering In   \n9            Jazz Duo - Background for Telecommuting   \n\n                        artists  \\\n0      [Instrumental Soft Jazz]   \n1  [Soft Jazz Background Music]   \n2      [Coffee Shop Jazz Relax]   \n3        [Smooth Jazz New York]   \n4       [Lofi Background Music]   \n5     [Instrumental Music Cafe]   \n6         [Coffeehouse Quartet]   \n7         [Manhattan Jazz Band]   \n8  [Manhattan Steakhouse Music]   \n9  [Manhattan Steakhouse Music]   \n\n                                               album  popularity camelot  \\\n0  Happy Music for Remote Work - Big Band with Vi...           0      2A   \n1                             Soundscape for Siestas           0      8B   \n2                   Soundscapes for Afternoon Coffee           0      4A   \n3  Guitar Chill Out - Background Music for Mornin...           2      6B   \n4             Jazzhop Lofi - Ambiance for Depression           0      8A   \n5                   Instrumental Coffee Jazz Moments          34      9A   \n6  Working from Home - Background Jazz for your N...          28      6A   \n7  Music for Lower East Side (Vibraphone and Teno...          32      8A   \n8                Peaceful Vibes for Working Remotely           2      5A   \n9                Peaceful Vibes for Working Remotely           4      8B   \n\n     BPM       key  acousticness  happiness  instrumentalness  liveness  \\\n0  119.0  E♭ Minor         0.861      0.637             0.182    0.1020   \n1  130.0   C Major         0.973      0.806             0.122    0.1260   \n2  111.0   F Minor         0.370      0.742             0.831    0.1880   \n3   88.0  B♭ Major         0.961      0.143             0.880    0.1040   \n4   91.0   A Minor         0.788      0.757             0.846    0.1030   \n5   80.0   E Minor         0.814      0.376             0.928    0.1120   \n6  110.0   G Minor         0.785      0.756             0.867    0.0955   \n7   72.0   A Minor         0.901      0.461             0.785    0.1050   \n8  129.0   C Minor         0.945      0.407             0.943    0.1120   \n9  131.0   C Major         0.959      0.219             0.938    0.1120   \n\n   loudness  danceability  energy     yt_id  \n0   -13.157         0.765  0.2680  66823129  \n1   -12.567         0.814  0.1830  66823128  \n2   -14.849         0.767  0.4470  66823123  \n3   -18.011         0.348  0.0383  66823121  \n4   -16.529         0.569  0.2790  69731331  \n5   -29.630         0.687  0.0509  66823127  \n6   -26.460         0.778  0.1320  66823126  \n7   -15.165         0.615  0.2160  66823113  \n8   -19.848         0.553  0.1520  66823119  \n9   -18.749         0.605  0.2040  66823117  ",
      "text/html": "<div>\n<style scoped>\n    .dataframe tbody tr th:only-of-type {\n        vertical-align: middle;\n    }\n\n    .dataframe tbody tr th {\n        vertical-align: top;\n    }\n\n    .dataframe thead th {\n        text-align: right;\n    }\n</style>\n<table border=\"1\" class=\"dataframe\">\n  <thead>\n    <tr style=\"text-align: right;\">\n      <th></th>\n      <th>title</th>\n      <th>artists</th>\n      <th>album</th>\n      <th>popularity</th>\n      <th>camelot</th>\n      <th>BPM</th>\n      <th>key</th>\n      <th>acousticness</th>\n      <th>happiness</th>\n      <th>instrumentalness</th>\n      <th>liveness</th>\n      <th>loudness</th>\n      <th>danceability</th>\n      <th>energy</th>\n      <th>yt_id</th>\n    </tr>\n  </thead>\n  <tbody>\n    <tr>\n      <th>0</th>\n      <td>Background for New Years Resolutions</td>\n      <td>[Instrumental Soft Jazz]</td>\n      <td>Happy Music for Remote Work - Big Band with Vi...</td>\n      <td>0</td>\n      <td>2A</td>\n      <td>119.0</td>\n      <td>E♭ Minor</td>\n      <td>0.861</td>\n      <td>0.637</td>\n      <td>0.182</td>\n      <td>0.1020</td>\n      <td>-13.157</td>\n      <td>0.765</td>\n      <td>0.2680</td>\n      <td>66823129</td>\n    </tr>\n    <tr>\n      <th>1</th>\n      <td>Jazz Duo - Background for Working Remotely</td>\n      <td>[Soft Jazz Background Music]</td>\n      <td>Soundscape for Siestas</td>\n      <td>0</td>\n      <td>8B</td>\n      <td>130.0</td>\n      <td>C Major</td>\n      <td>0.973</td>\n      <td>0.806</td>\n      <td>0.122</td>\n      <td>0.1260</td>\n      <td>-12.567</td>\n      <td>0.814</td>\n      <td>0.1830</td>\n      <td>66823128</td>\n    </tr>\n    <tr>\n      <th>2</th>\n      <td>Nu Jazz - Background Music for After Dinner Co...</td>\n      <td>[Coffee Shop Jazz Relax]</td>\n      <td>Soundscapes for Afternoon Coffee</td>\n      <td>0</td>\n      <td>4A</td>\n      <td>111.0</td>\n      <td>F Minor</td>\n      <td>0.370</td>\n      <td>0.742</td>\n      <td>0.831</td>\n      <td>0.1880</td>\n      <td>-14.849</td>\n      <td>0.767</td>\n      <td>0.4470</td>\n      <td>66823123</td>\n    </tr>\n    <tr>\n      <th>3</th>\n      <td>Suave Music for Java Moments</td>\n      <td>[Smooth Jazz New York]</td>\n      <td>Guitar Chill Out - Background Music for Mornin...</td>\n      <td>2</td>\n      <td>6B</td>\n      <td>88.0</td>\n      <td>B♭ Major</td>\n      <td>0.961</td>\n      <td>0.143</td>\n      <td>0.880</td>\n      <td>0.1040</td>\n      <td>-18.011</td>\n      <td>0.348</td>\n      <td>0.0383</td>\n      <td>66823121</td>\n    </tr>\n    <tr>\n      <th>4</th>\n      <td>Suave Atmosphere for All Night Study Sessions</td>\n      <td>[Lofi Background Music]</td>\n      <td>Jazzhop Lofi - Ambiance for Depression</td>\n      <td>0</td>\n      <td>8A</td>\n      <td>91.0</td>\n      <td>A Minor</td>\n      <td>0.788</td>\n      <td>0.757</td>\n      <td>0.846</td>\n      <td>0.1030</td>\n      <td>-16.529</td>\n      <td>0.569</td>\n      <td>0.2790</td>\n      <td>69731331</td>\n    </tr>\n    <tr>\n      <th>5</th>\n      <td>Background Jazz</td>\n      <td>[Instrumental Music Cafe]</td>\n      <td>Instrumental Coffee Jazz Moments</td>\n      <td>34</td>\n      <td>9A</td>\n      <td>80.0</td>\n      <td>E Minor</td>\n      <td>0.814</td>\n      <td>0.376</td>\n      <td>0.928</td>\n      <td>0.1120</td>\n      <td>-29.630</td>\n      <td>0.687</td>\n      <td>0.0509</td>\n      <td>66823127</td>\n    </tr>\n    <tr>\n      <th>6</th>\n      <td>Background Jazz for your New Home Office</td>\n      <td>[Coffeehouse Quartet]</td>\n      <td>Working from Home - Background Jazz for your N...</td>\n      <td>28</td>\n      <td>6A</td>\n      <td>110.0</td>\n      <td>G Minor</td>\n      <td>0.785</td>\n      <td>0.756</td>\n      <td>0.867</td>\n      <td>0.0955</td>\n      <td>-26.460</td>\n      <td>0.778</td>\n      <td>0.1320</td>\n      <td>66823126</td>\n    </tr>\n    <tr>\n      <th>7</th>\n      <td>Vivacious Backdrops for Tribeca</td>\n      <td>[Manhattan Jazz Band]</td>\n      <td>Music for Lower East Side (Vibraphone and Teno...</td>\n      <td>32</td>\n      <td>8A</td>\n      <td>72.0</td>\n      <td>A Minor</td>\n      <td>0.901</td>\n      <td>0.461</td>\n      <td>0.785</td>\n      <td>0.1050</td>\n      <td>-15.165</td>\n      <td>0.615</td>\n      <td>0.2160</td>\n      <td>66823113</td>\n    </tr>\n    <tr>\n      <th>8</th>\n      <td>NO Drums Jazz - Background Music for Ordering In</td>\n      <td>[Manhattan Steakhouse Music]</td>\n      <td>Peaceful Vibes for Working Remotely</td>\n      <td>2</td>\n      <td>5A</td>\n      <td>129.0</td>\n      <td>C Minor</td>\n      <td>0.945</td>\n      <td>0.407</td>\n      <td>0.943</td>\n      <td>0.1120</td>\n      <td>-19.848</td>\n      <td>0.553</td>\n      <td>0.1520</td>\n      <td>66823119</td>\n    </tr>\n    <tr>\n      <th>9</th>\n      <td>Jazz Duo - Background for Telecommuting</td>\n      <td>[Manhattan Steakhouse Music]</td>\n      <td>Peaceful Vibes for Working Remotely</td>\n      <td>4</td>\n      <td>8B</td>\n      <td>131.0</td>\n      <td>C Major</td>\n      <td>0.959</td>\n      <td>0.219</td>\n      <td>0.938</td>\n      <td>0.1120</td>\n      <td>-18.749</td>\n      <td>0.605</td>\n      <td>0.2040</td>\n      <td>66823117</td>\n    </tr>\n  </tbody>\n</table>\n</div>"
     },
     "execution_count": 6,
     "metadata": {},
     "output_type": "execute_result"
    }
   ],
   "source": [
    "create_subset([\"background jazz music\"], \"background\", count=10)"
   ],
   "metadata": {
    "collapsed": false,
    "ExecuteTime": {
     "end_time": "2024-01-07T11:06:20.193588200Z",
     "start_time": "2024-01-07T11:05:14.889543300Z"
    }
   }
  },
  {
   "cell_type": "markdown",
   "source": [
    "Датасет в таком формате используется в проекте рекомендации песен для своего мероприятия или заведения. Подробнее можно смотреть [тут](https://github.com/MulhamShaheen/Data-collection-1)"
   ],
   "metadata": {
    "collapsed": false
   }
  },
  {
   "cell_type": "markdown",
   "source": [
    "# Аудио данные\n",
    "Можно заметить поле `yt_id`, в нем сохранены идентификаторы песен на Яндекс.музыке, таким образом можем скачивать оттуда аудио файлы."
   ],
   "metadata": {
    "collapsed": false
   }
  },
  {
   "cell_type": "code",
   "execution_count": 32,
   "outputs": [],
   "source": [
    "from parser.yandex import download_track"
   ],
   "metadata": {
    "collapsed": false,
    "ExecuteTime": {
     "end_time": "2024-01-07T12:23:20.084361400Z",
     "start_time": "2024-01-07T12:23:20.072319900Z"
    }
   }
  },
  {
   "cell_type": "code",
   "execution_count": 3,
   "outputs": [],
   "source": [
    "download_track(72668561, \"songs/Riders On The Storm - Fredwreck Remix.mp3\")"
   ],
   "metadata": {
    "collapsed": false,
    "ExecuteTime": {
     "end_time": "2024-01-07T07:59:58.561274700Z",
     "start_time": "2024-01-07T07:59:57.306279600Z"
    }
   }
  },
  {
   "cell_type": "markdown",
   "source": [
    "## Загрузка табличный датасет"
   ],
   "metadata": {
    "collapsed": false
   }
  },
  {
   "cell_type": "code",
   "execution_count": 7,
   "outputs": [],
   "source": [
    "upbeat_df = pd.read_csv(\"upbeat.csv\")\n",
    "sport_df = pd.read_csv(\"sport.csv\")\n",
    "background_df = pd.read_csv(\"background.csv\")\n",
    "dance_df = pd.read_csv(\"dance.csv\")"
   ],
   "metadata": {
    "collapsed": false,
    "ExecuteTime": {
     "end_time": "2024-01-07T11:11:52.356120100Z",
     "start_time": "2024-01-07T11:11:52.323531400Z"
    }
   }
  },
  {
   "cell_type": "code",
   "execution_count": 8,
   "outputs": [],
   "source": [
    "upbeat_df.insert(2, \"label\", [\"upbeat\"]*10, True)\n",
    "sport_df.insert(2, \"label\", [\"sport\"]*10, True)\n",
    "background_df.insert(2, \"label\", [\"background\"]*10, True)\n",
    "dance_df.insert(2, \"label\", [\"dance\"]*10, True)\n"
   ],
   "metadata": {
    "collapsed": false,
    "ExecuteTime": {
     "end_time": "2024-01-07T11:12:08.267752300Z",
     "start_time": "2024-01-07T11:12:08.249175Z"
    }
   }
  },
  {
   "cell_type": "code",
   "execution_count": 12,
   "outputs": [],
   "source": [
    "songs_df = pd.concat([upbeat_df, sport_df, background_df, dance_df])"
   ],
   "metadata": {
    "collapsed": false,
    "ExecuteTime": {
     "end_time": "2024-01-07T11:14:35.938476700Z",
     "start_time": "2024-01-07T11:14:35.925181600Z"
    }
   }
  },
  {
   "cell_type": "code",
   "execution_count": 17,
   "outputs": [],
   "source": [
    "songs_df = songs_df.drop([\"Unnamed: 0\"], axis=1)"
   ],
   "metadata": {
    "collapsed": false,
    "ExecuteTime": {
     "end_time": "2024-01-07T11:15:14.825645300Z",
     "start_time": "2024-01-07T11:15:14.801864600Z"
    }
   }
  },
  {
   "cell_type": "code",
   "execution_count": 18,
   "outputs": [
    {
     "data": {
      "text/plain": "                                               title       label  \\\n0                                   Capitão de Areia      upbeat   \n1                                    Crystal Dolphin      upbeat   \n2                                 Where Is The Love?      upbeat   \n3                                       Take It Easy      upbeat   \n4                                           My Witch      upbeat   \n5              Riders On The Storm - Fredwreck Remix      upbeat   \n6                                           Imperial      upbeat   \n7                                    They Dead Wrong      upbeat   \n8         Believe Me (feat. Bobo & Styles of Beyond)      upbeat   \n9           Fantasy (feat. O.D.B.) - Bad Boy Fantasy      upbeat   \n0                                   Willing to Party       sport   \n1                                      Crazy Deja Vu       sport   \n2                                               Dawn       sport   \n3                              Can't Wait To Find Me       sport   \n4                                    Party All Night       sport   \n5                                             (pt 1)       sport   \n6                                       Human Nature       sport   \n7                                       Narkotik Kal       sport   \n8                                    Музыка для бега       sport   \n9                                   Trance Your Mind       sport   \n0               Background for New Years Resolutions  background   \n1         Jazz Duo - Background for Working Remotely  background   \n2  Nu Jazz - Background Music for After Dinner Co...  background   \n3                       Suave Music for Java Moments  background   \n4      Suave Atmosphere for All Night Study Sessions  background   \n5                                    Background Jazz  background   \n6           Background Jazz for your New Home Office  background   \n7                    Vivacious Backdrops for Tribeca  background   \n8   NO Drums Jazz - Background Music for Ordering In  background   \n9            Jazz Duo - Background for Telecommuting  background   \n0                    Ghostchild (feat. Spree Wilson)       dance   \n1                      Hero (Satellite) - Radio Edit       dance   \n2                                              First       dance   \n3                            Lovestruck - Radio Edit       dance   \n4                               Wake Up - Radio Edit       dance   \n5                                              TENGU       dance   \n6                        Booty Bounce - Extended Mix       dance   \n7                        Live Your Life - Radio Edit       dance   \n8           Zero Gravity (feat. Lights) - Radio Edit       dance   \n9                  Throw Your Hearts Up - Radio Edit       dance   \n\n                                             artists  \\\n0                                     ['Afterclapp']   \n1                                      ['Engelwood']   \n2                                ['Black Eyed Peas']   \n3                                     ['Batu Boris']   \n4                                      ['Moderator']   \n5                        ['Snoop Dogg', 'The Doors']   \n6                                          ['j^p^n']   \n7                     ['Slivanoë', 'Tour De Manège']   \n8         ['Fort Minor', 'Bobo', 'Styles Of Beyond']   \n9              ['Mariah Carey', \"Ol' Dirty Bastard\"]   \n0  ['Gym Music', 'The Gym Allstars', 'Training Mo...   \n1   ['Gym Music', 'Gym Workout', 'The Gym Allstars']   \n2  ['Gym Music', 'The Gym Allstars', 'Training Mo...   \n3   ['Gym Music', 'Gym Workout', 'The Gym Allstars']   \n4   ['Gym Music', 'Gym Workout', 'The Gym Allstars']   \n5   ['Gym Music', 'Gym Workout', 'The Gym Allstars']   \n6   ['Gym Music', 'Gym Workout', 'The Gym Allstars']   \n7                               ['Hard Bass School']   \n8                                          ['Naell']   \n9  ['Gym Music', 'The Gym Allstars', 'Training Mo...   \n0                         ['Instrumental Soft Jazz']   \n1                     ['Soft Jazz Background Music']   \n2                         ['Coffee Shop Jazz Relax']   \n3                           ['Smooth Jazz New York']   \n4                          ['Lofi Background Music']   \n5                        ['Instrumental Music Cafe']   \n6                            ['Coffeehouse Quartet']   \n7                            ['Manhattan Jazz Band']   \n8                     ['Manhattan Steakhouse Music']   \n9                     ['Manhattan Steakhouse Music']   \n0            ['Firebeatz', 'Apster', 'Spree Wilson']   \n1                        ['Breathe Carolina', 'Y&V']   \n2                                           ['1RDJ']   \n3                       ['Borgeous', 'Mike Hawkins']   \n4                                    ['Jay Hardway']   \n5                       ['Matisse & Sadko', 'Vigel']   \n6                            ['Tujamo', 'Taio Cruz']   \n7                    ['Headhunterz', 'Crystal Lake']   \n8                             ['Borgeous', 'Lights']   \n9                  ['Juicy Trax', 'C. Todd Nielsen']   \n\n                                               album  popularity camelot  \\\n0                                   Capitão De Areia          46      8B   \n1                                           Crust FM          59     11B   \n2                                           Elephunk          82      7B   \n3                                       Take It Easy          34      9B   \n4                                  Sinner's Syndrome          46      7B   \n5              Riders On The Storm (Fredwreck Remix)          66     10A   \n6                                           Prodigal          53      5B   \n7                                 Special East Coast           3      1A   \n8                                    The Rising Tied          46      4B   \n9                                         Fantasy EP          59     10A   \n0                                               Move           0      6B   \n1                               Hot Fitness Mix 2017           3      9A   \n2                                               Move          14      6A   \n3                               Hot Fitness Mix 2017           0      9B   \n4                               Hot Fitness Mix 2017          10      9B   \n5                               10 Tracks To Fitness           0     11A   \n6                                 Physical Gym Music           0     12B   \n7                                  The Album (Mixed)          53      1B   \n8          Музыка для Фитнеса Тренировка Бег и Спорт          39      3A   \n9                                               Move           2      9B   \n0  Happy Music for Remote Work - Big Band with Vi...           0      2A   \n1                             Soundscape for Siestas           0      8B   \n2                   Soundscapes for Afternoon Coffee           0      4A   \n3  Guitar Chill Out - Background Music for Mornin...           2      6B   \n4             Jazzhop Lofi - Ambiance for Depression           0      8A   \n5                   Instrumental Coffee Jazz Moments          34      9A   \n6  Working from Home - Background Jazz for your N...          28      6A   \n7  Music for Lower East Side (Vibraphone and Teno...          32      8A   \n8                Peaceful Vibes for Working Remotely           2      5A   \n9                Peaceful Vibes for Working Remotely           4      8B   \n0                    Ghostchild (feat. Spree Wilson)          18      2A   \n1                      Hero (Satellite) [Radio Edit]          19      7A   \n2                                              First           6     10B   \n3                                         Lovestruck          28      3B   \n4                               Wake Up (Radio Edit)          36      1A   \n5                                              TENGU          17      7B   \n6                                       Booty Bounce          39      6A   \n7                                     Live Your Life          47     11A   \n8           Zero Gravity (feat. Lights) [Radio Edit]          35      9A   \n9                  Throw Your Hearts Up (Radio Edit)          15      6A   \n\n     BPM       key  acousticness  happiness  instrumentalness  liveness  \\\n0   85.0   C Major      0.757000      0.308          0.077800    0.2530   \n1  128.0   A Major      0.330000      0.247          0.000445    0.4100   \n2   94.0   F Major      0.111000      0.809          0.000000    0.1310   \n3  140.0   G Major      0.714000      0.735          0.014100    0.1030   \n4   91.0   F Major      0.151000      0.532          0.234000    0.2950   \n5  102.0   B Minor      0.416000      0.831          0.000031    0.1220   \n6  102.0  E♭ Major      0.236000      0.397          0.085200    0.4830   \n7   90.0  A♭ Minor      0.100000      0.781          0.000046    0.1490   \n8  110.0  A♭ Major      0.064900      0.668          0.000444    0.3110   \n9  102.0   B Minor      0.050100      0.804          0.000000    0.0409   \n0  120.0  B♭ Major      0.008690      0.659          0.890000    0.0728   \n1  130.0   E Minor      0.001760      0.644          0.912000    0.7930   \n2  120.0   G Minor      0.055100      0.856          0.917000    0.0217   \n3  120.0   G Major      0.000062      0.273          0.920000    0.1920   \n4  125.0   G Major      0.000027      0.560          0.784000    0.0925   \n5  130.0  F# Minor      0.112000      0.482          0.750000    0.3230   \n6  125.0   E Major      0.004890      0.929          0.939000    0.3390   \n7  150.0   B Major      0.018100      0.692          0.000000    0.2720   \n8  115.0  B♭ Minor      0.073700      0.966          0.903000    0.0934   \n9  120.0   G Major      0.000022      0.139          0.954000    0.1300   \n0  119.0  E♭ Minor      0.861000      0.637          0.182000    0.1020   \n1  130.0   C Major      0.973000      0.806          0.122000    0.1260   \n2  111.0   F Minor      0.370000      0.742          0.831000    0.1880   \n3   88.0  B♭ Major      0.961000      0.143          0.880000    0.1040   \n4   91.0   A Minor      0.788000      0.757          0.846000    0.1030   \n5   80.0   E Minor      0.814000      0.376          0.928000    0.1120   \n6  110.0   G Minor      0.785000      0.756          0.867000    0.0955   \n7   72.0   A Minor      0.901000      0.461          0.785000    0.1050   \n8  129.0   C Minor      0.945000      0.407          0.943000    0.1120   \n9  131.0   C Major      0.959000      0.219          0.938000    0.1120   \n0  128.0  E♭ Minor      0.022200      0.369          0.000026    0.0506   \n1  128.0   D Minor      0.046400      0.204          0.376000    0.3250   \n2  126.0   D Major      0.000490      0.330          0.937000    0.3300   \n3  128.0  C# Major      0.001560      0.164          0.784000    0.4070   \n4  128.0  A♭ Minor      0.017700      0.581          0.208000    0.1860   \n5  128.0   F Major      0.007160      0.377          0.936000    0.3500   \n6  128.0   G Minor      0.023500      0.793          0.000043    0.0823   \n7  130.0  F# Minor      0.005700      0.304          0.001550    0.0842   \n8  130.0   E Minor      0.032700      0.142          0.000000    0.1210   \n9  128.0   G Minor      0.003060      0.152          0.000386    0.2420   \n\n   loudness  danceability  energy     yt_id  \n0   -12.196         0.698  0.3370  53101044  \n1    -6.868         0.558  0.7760  38410510  \n2    -3.222         0.834  0.6990     71235  \n3    -8.888         0.871  0.4680  86510748  \n4    -8.697         0.648  0.7710  40643189  \n5    -5.273         0.878  0.7860  72668561  \n6    -7.863         0.385  0.4540  83824389  \n7    -4.922         0.808  0.7340  45821098  \n8    -3.406         0.702  0.9780    133052  \n9    -6.519         0.812  0.6610   4442566  \n0   -12.599         0.712  0.5560  67884983  \n1    -6.380         0.494  0.9950  63350863  \n2   -10.123         0.808  0.7850  67884982  \n3    -4.503         0.453  0.9350  63350843  \n4    -8.353         0.775  0.8840  63350835  \n5    -9.907         0.528  0.5570  36147245  \n6    -8.907         0.642  0.6640  63350828  \n7    -3.154         0.843  0.9900  99103565  \n8   -12.299         0.952  0.5070  99103566  \n9   -10.405         0.811  0.4620  67884978  \n0   -13.157         0.765  0.2680  66823129  \n1   -12.567         0.814  0.1830  66823128  \n2   -14.849         0.767  0.4470  66823123  \n3   -18.011         0.348  0.0383  66823121  \n4   -16.529         0.569  0.2790  69731331  \n5   -29.630         0.687  0.0509  66823127  \n6   -26.460         0.778  0.1320  66823126  \n7   -15.165         0.615  0.2160  66823113  \n8   -19.848         0.553  0.1520  66823119  \n9   -18.749         0.605  0.2040  66823117  \n0    -5.490         0.656  0.8580  25854649  \n1    -7.487         0.629  0.7800  25218063  \n2    -4.535         0.620  0.9450  24828826  \n3    -6.721         0.632  0.9130  24828803  \n4    -5.622         0.549  0.8600  24768362  \n5    -3.960         0.376  0.9690  25515558  \n6    -1.563         0.753  0.9700  26293899  \n7    -3.192         0.485  0.8530  24442653  \n8    -6.269         0.490  0.8090  24442720  \n9    -3.041         0.439  0.9200  24943100  ",
      "text/html": "<div>\n<style scoped>\n    .dataframe tbody tr th:only-of-type {\n        vertical-align: middle;\n    }\n\n    .dataframe tbody tr th {\n        vertical-align: top;\n    }\n\n    .dataframe thead th {\n        text-align: right;\n    }\n</style>\n<table border=\"1\" class=\"dataframe\">\n  <thead>\n    <tr style=\"text-align: right;\">\n      <th></th>\n      <th>title</th>\n      <th>label</th>\n      <th>artists</th>\n      <th>album</th>\n      <th>popularity</th>\n      <th>camelot</th>\n      <th>BPM</th>\n      <th>key</th>\n      <th>acousticness</th>\n      <th>happiness</th>\n      <th>instrumentalness</th>\n      <th>liveness</th>\n      <th>loudness</th>\n      <th>danceability</th>\n      <th>energy</th>\n      <th>yt_id</th>\n    </tr>\n  </thead>\n  <tbody>\n    <tr>\n      <th>0</th>\n      <td>Capitão de Areia</td>\n      <td>upbeat</td>\n      <td>['Afterclapp']</td>\n      <td>Capitão De Areia</td>\n      <td>46</td>\n      <td>8B</td>\n      <td>85.0</td>\n      <td>C Major</td>\n      <td>0.757000</td>\n      <td>0.308</td>\n      <td>0.077800</td>\n      <td>0.2530</td>\n      <td>-12.196</td>\n      <td>0.698</td>\n      <td>0.3370</td>\n      <td>53101044</td>\n    </tr>\n    <tr>\n      <th>1</th>\n      <td>Crystal Dolphin</td>\n      <td>upbeat</td>\n      <td>['Engelwood']</td>\n      <td>Crust FM</td>\n      <td>59</td>\n      <td>11B</td>\n      <td>128.0</td>\n      <td>A Major</td>\n      <td>0.330000</td>\n      <td>0.247</td>\n      <td>0.000445</td>\n      <td>0.4100</td>\n      <td>-6.868</td>\n      <td>0.558</td>\n      <td>0.7760</td>\n      <td>38410510</td>\n    </tr>\n    <tr>\n      <th>2</th>\n      <td>Where Is The Love?</td>\n      <td>upbeat</td>\n      <td>['Black Eyed Peas']</td>\n      <td>Elephunk</td>\n      <td>82</td>\n      <td>7B</td>\n      <td>94.0</td>\n      <td>F Major</td>\n      <td>0.111000</td>\n      <td>0.809</td>\n      <td>0.000000</td>\n      <td>0.1310</td>\n      <td>-3.222</td>\n      <td>0.834</td>\n      <td>0.6990</td>\n      <td>71235</td>\n    </tr>\n    <tr>\n      <th>3</th>\n      <td>Take It Easy</td>\n      <td>upbeat</td>\n      <td>['Batu Boris']</td>\n      <td>Take It Easy</td>\n      <td>34</td>\n      <td>9B</td>\n      <td>140.0</td>\n      <td>G Major</td>\n      <td>0.714000</td>\n      <td>0.735</td>\n      <td>0.014100</td>\n      <td>0.1030</td>\n      <td>-8.888</td>\n      <td>0.871</td>\n      <td>0.4680</td>\n      <td>86510748</td>\n    </tr>\n    <tr>\n      <th>4</th>\n      <td>My Witch</td>\n      <td>upbeat</td>\n      <td>['Moderator']</td>\n      <td>Sinner's Syndrome</td>\n      <td>46</td>\n      <td>7B</td>\n      <td>91.0</td>\n      <td>F Major</td>\n      <td>0.151000</td>\n      <td>0.532</td>\n      <td>0.234000</td>\n      <td>0.2950</td>\n      <td>-8.697</td>\n      <td>0.648</td>\n      <td>0.7710</td>\n      <td>40643189</td>\n    </tr>\n    <tr>\n      <th>5</th>\n      <td>Riders On The Storm - Fredwreck Remix</td>\n      <td>upbeat</td>\n      <td>['Snoop Dogg', 'The Doors']</td>\n      <td>Riders On The Storm (Fredwreck Remix)</td>\n      <td>66</td>\n      <td>10A</td>\n      <td>102.0</td>\n      <td>B Minor</td>\n      <td>0.416000</td>\n      <td>0.831</td>\n      <td>0.000031</td>\n      <td>0.1220</td>\n      <td>-5.273</td>\n      <td>0.878</td>\n      <td>0.7860</td>\n      <td>72668561</td>\n    </tr>\n    <tr>\n      <th>6</th>\n      <td>Imperial</td>\n      <td>upbeat</td>\n      <td>['j^p^n']</td>\n      <td>Prodigal</td>\n      <td>53</td>\n      <td>5B</td>\n      <td>102.0</td>\n      <td>E♭ Major</td>\n      <td>0.236000</td>\n      <td>0.397</td>\n      <td>0.085200</td>\n      <td>0.4830</td>\n      <td>-7.863</td>\n      <td>0.385</td>\n      <td>0.4540</td>\n      <td>83824389</td>\n    </tr>\n    <tr>\n      <th>7</th>\n      <td>They Dead Wrong</td>\n      <td>upbeat</td>\n      <td>['Slivanoë', 'Tour De Manège']</td>\n      <td>Special East Coast</td>\n      <td>3</td>\n      <td>1A</td>\n      <td>90.0</td>\n      <td>A♭ Minor</td>\n      <td>0.100000</td>\n      <td>0.781</td>\n      <td>0.000046</td>\n      <td>0.1490</td>\n      <td>-4.922</td>\n      <td>0.808</td>\n      <td>0.7340</td>\n      <td>45821098</td>\n    </tr>\n    <tr>\n      <th>8</th>\n      <td>Believe Me (feat. Bobo &amp; Styles of Beyond)</td>\n      <td>upbeat</td>\n      <td>['Fort Minor', 'Bobo', 'Styles Of Beyond']</td>\n      <td>The Rising Tied</td>\n      <td>46</td>\n      <td>4B</td>\n      <td>110.0</td>\n      <td>A♭ Major</td>\n      <td>0.064900</td>\n      <td>0.668</td>\n      <td>0.000444</td>\n      <td>0.3110</td>\n      <td>-3.406</td>\n      <td>0.702</td>\n      <td>0.9780</td>\n      <td>133052</td>\n    </tr>\n    <tr>\n      <th>9</th>\n      <td>Fantasy (feat. O.D.B.) - Bad Boy Fantasy</td>\n      <td>upbeat</td>\n      <td>['Mariah Carey', \"Ol' Dirty Bastard\"]</td>\n      <td>Fantasy EP</td>\n      <td>59</td>\n      <td>10A</td>\n      <td>102.0</td>\n      <td>B Minor</td>\n      <td>0.050100</td>\n      <td>0.804</td>\n      <td>0.000000</td>\n      <td>0.0409</td>\n      <td>-6.519</td>\n      <td>0.812</td>\n      <td>0.6610</td>\n      <td>4442566</td>\n    </tr>\n    <tr>\n      <th>0</th>\n      <td>Willing to Party</td>\n      <td>sport</td>\n      <td>['Gym Music', 'The Gym Allstars', 'Training Mo...</td>\n      <td>Move</td>\n      <td>0</td>\n      <td>6B</td>\n      <td>120.0</td>\n      <td>B♭ Major</td>\n      <td>0.008690</td>\n      <td>0.659</td>\n      <td>0.890000</td>\n      <td>0.0728</td>\n      <td>-12.599</td>\n      <td>0.712</td>\n      <td>0.5560</td>\n      <td>67884983</td>\n    </tr>\n    <tr>\n      <th>1</th>\n      <td>Crazy Deja Vu</td>\n      <td>sport</td>\n      <td>['Gym Music', 'Gym Workout', 'The Gym Allstars']</td>\n      <td>Hot Fitness Mix 2017</td>\n      <td>3</td>\n      <td>9A</td>\n      <td>130.0</td>\n      <td>E Minor</td>\n      <td>0.001760</td>\n      <td>0.644</td>\n      <td>0.912000</td>\n      <td>0.7930</td>\n      <td>-6.380</td>\n      <td>0.494</td>\n      <td>0.9950</td>\n      <td>63350863</td>\n    </tr>\n    <tr>\n      <th>2</th>\n      <td>Dawn</td>\n      <td>sport</td>\n      <td>['Gym Music', 'The Gym Allstars', 'Training Mo...</td>\n      <td>Move</td>\n      <td>14</td>\n      <td>6A</td>\n      <td>120.0</td>\n      <td>G Minor</td>\n      <td>0.055100</td>\n      <td>0.856</td>\n      <td>0.917000</td>\n      <td>0.0217</td>\n      <td>-10.123</td>\n      <td>0.808</td>\n      <td>0.7850</td>\n      <td>67884982</td>\n    </tr>\n    <tr>\n      <th>3</th>\n      <td>Can't Wait To Find Me</td>\n      <td>sport</td>\n      <td>['Gym Music', 'Gym Workout', 'The Gym Allstars']</td>\n      <td>Hot Fitness Mix 2017</td>\n      <td>0</td>\n      <td>9B</td>\n      <td>120.0</td>\n      <td>G Major</td>\n      <td>0.000062</td>\n      <td>0.273</td>\n      <td>0.920000</td>\n      <td>0.1920</td>\n      <td>-4.503</td>\n      <td>0.453</td>\n      <td>0.9350</td>\n      <td>63350843</td>\n    </tr>\n    <tr>\n      <th>4</th>\n      <td>Party All Night</td>\n      <td>sport</td>\n      <td>['Gym Music', 'Gym Workout', 'The Gym Allstars']</td>\n      <td>Hot Fitness Mix 2017</td>\n      <td>10</td>\n      <td>9B</td>\n      <td>125.0</td>\n      <td>G Major</td>\n      <td>0.000027</td>\n      <td>0.560</td>\n      <td>0.784000</td>\n      <td>0.0925</td>\n      <td>-8.353</td>\n      <td>0.775</td>\n      <td>0.8840</td>\n      <td>63350835</td>\n    </tr>\n    <tr>\n      <th>5</th>\n      <td>(pt 1)</td>\n      <td>sport</td>\n      <td>['Gym Music', 'Gym Workout', 'The Gym Allstars']</td>\n      <td>10 Tracks To Fitness</td>\n      <td>0</td>\n      <td>11A</td>\n      <td>130.0</td>\n      <td>F# Minor</td>\n      <td>0.112000</td>\n      <td>0.482</td>\n      <td>0.750000</td>\n      <td>0.3230</td>\n      <td>-9.907</td>\n      <td>0.528</td>\n      <td>0.5570</td>\n      <td>36147245</td>\n    </tr>\n    <tr>\n      <th>6</th>\n      <td>Human Nature</td>\n      <td>sport</td>\n      <td>['Gym Music', 'Gym Workout', 'The Gym Allstars']</td>\n      <td>Physical Gym Music</td>\n      <td>0</td>\n      <td>12B</td>\n      <td>125.0</td>\n      <td>E Major</td>\n      <td>0.004890</td>\n      <td>0.929</td>\n      <td>0.939000</td>\n      <td>0.3390</td>\n      <td>-8.907</td>\n      <td>0.642</td>\n      <td>0.6640</td>\n      <td>63350828</td>\n    </tr>\n    <tr>\n      <th>7</th>\n      <td>Narkotik Kal</td>\n      <td>sport</td>\n      <td>['Hard Bass School']</td>\n      <td>The Album (Mixed)</td>\n      <td>53</td>\n      <td>1B</td>\n      <td>150.0</td>\n      <td>B Major</td>\n      <td>0.018100</td>\n      <td>0.692</td>\n      <td>0.000000</td>\n      <td>0.2720</td>\n      <td>-3.154</td>\n      <td>0.843</td>\n      <td>0.9900</td>\n      <td>99103565</td>\n    </tr>\n    <tr>\n      <th>8</th>\n      <td>Музыка для бега</td>\n      <td>sport</td>\n      <td>['Naell']</td>\n      <td>Музыка для Фитнеса Тренировка Бег и Спорт</td>\n      <td>39</td>\n      <td>3A</td>\n      <td>115.0</td>\n      <td>B♭ Minor</td>\n      <td>0.073700</td>\n      <td>0.966</td>\n      <td>0.903000</td>\n      <td>0.0934</td>\n      <td>-12.299</td>\n      <td>0.952</td>\n      <td>0.5070</td>\n      <td>99103566</td>\n    </tr>\n    <tr>\n      <th>9</th>\n      <td>Trance Your Mind</td>\n      <td>sport</td>\n      <td>['Gym Music', 'The Gym Allstars', 'Training Mo...</td>\n      <td>Move</td>\n      <td>2</td>\n      <td>9B</td>\n      <td>120.0</td>\n      <td>G Major</td>\n      <td>0.000022</td>\n      <td>0.139</td>\n      <td>0.954000</td>\n      <td>0.1300</td>\n      <td>-10.405</td>\n      <td>0.811</td>\n      <td>0.4620</td>\n      <td>67884978</td>\n    </tr>\n    <tr>\n      <th>0</th>\n      <td>Background for New Years Resolutions</td>\n      <td>background</td>\n      <td>['Instrumental Soft Jazz']</td>\n      <td>Happy Music for Remote Work - Big Band with Vi...</td>\n      <td>0</td>\n      <td>2A</td>\n      <td>119.0</td>\n      <td>E♭ Minor</td>\n      <td>0.861000</td>\n      <td>0.637</td>\n      <td>0.182000</td>\n      <td>0.1020</td>\n      <td>-13.157</td>\n      <td>0.765</td>\n      <td>0.2680</td>\n      <td>66823129</td>\n    </tr>\n    <tr>\n      <th>1</th>\n      <td>Jazz Duo - Background for Working Remotely</td>\n      <td>background</td>\n      <td>['Soft Jazz Background Music']</td>\n      <td>Soundscape for Siestas</td>\n      <td>0</td>\n      <td>8B</td>\n      <td>130.0</td>\n      <td>C Major</td>\n      <td>0.973000</td>\n      <td>0.806</td>\n      <td>0.122000</td>\n      <td>0.1260</td>\n      <td>-12.567</td>\n      <td>0.814</td>\n      <td>0.1830</td>\n      <td>66823128</td>\n    </tr>\n    <tr>\n      <th>2</th>\n      <td>Nu Jazz - Background Music for After Dinner Co...</td>\n      <td>background</td>\n      <td>['Coffee Shop Jazz Relax']</td>\n      <td>Soundscapes for Afternoon Coffee</td>\n      <td>0</td>\n      <td>4A</td>\n      <td>111.0</td>\n      <td>F Minor</td>\n      <td>0.370000</td>\n      <td>0.742</td>\n      <td>0.831000</td>\n      <td>0.1880</td>\n      <td>-14.849</td>\n      <td>0.767</td>\n      <td>0.4470</td>\n      <td>66823123</td>\n    </tr>\n    <tr>\n      <th>3</th>\n      <td>Suave Music for Java Moments</td>\n      <td>background</td>\n      <td>['Smooth Jazz New York']</td>\n      <td>Guitar Chill Out - Background Music for Mornin...</td>\n      <td>2</td>\n      <td>6B</td>\n      <td>88.0</td>\n      <td>B♭ Major</td>\n      <td>0.961000</td>\n      <td>0.143</td>\n      <td>0.880000</td>\n      <td>0.1040</td>\n      <td>-18.011</td>\n      <td>0.348</td>\n      <td>0.0383</td>\n      <td>66823121</td>\n    </tr>\n    <tr>\n      <th>4</th>\n      <td>Suave Atmosphere for All Night Study Sessions</td>\n      <td>background</td>\n      <td>['Lofi Background Music']</td>\n      <td>Jazzhop Lofi - Ambiance for Depression</td>\n      <td>0</td>\n      <td>8A</td>\n      <td>91.0</td>\n      <td>A Minor</td>\n      <td>0.788000</td>\n      <td>0.757</td>\n      <td>0.846000</td>\n      <td>0.1030</td>\n      <td>-16.529</td>\n      <td>0.569</td>\n      <td>0.2790</td>\n      <td>69731331</td>\n    </tr>\n    <tr>\n      <th>5</th>\n      <td>Background Jazz</td>\n      <td>background</td>\n      <td>['Instrumental Music Cafe']</td>\n      <td>Instrumental Coffee Jazz Moments</td>\n      <td>34</td>\n      <td>9A</td>\n      <td>80.0</td>\n      <td>E Minor</td>\n      <td>0.814000</td>\n      <td>0.376</td>\n      <td>0.928000</td>\n      <td>0.1120</td>\n      <td>-29.630</td>\n      <td>0.687</td>\n      <td>0.0509</td>\n      <td>66823127</td>\n    </tr>\n    <tr>\n      <th>6</th>\n      <td>Background Jazz for your New Home Office</td>\n      <td>background</td>\n      <td>['Coffeehouse Quartet']</td>\n      <td>Working from Home - Background Jazz for your N...</td>\n      <td>28</td>\n      <td>6A</td>\n      <td>110.0</td>\n      <td>G Minor</td>\n      <td>0.785000</td>\n      <td>0.756</td>\n      <td>0.867000</td>\n      <td>0.0955</td>\n      <td>-26.460</td>\n      <td>0.778</td>\n      <td>0.1320</td>\n      <td>66823126</td>\n    </tr>\n    <tr>\n      <th>7</th>\n      <td>Vivacious Backdrops for Tribeca</td>\n      <td>background</td>\n      <td>['Manhattan Jazz Band']</td>\n      <td>Music for Lower East Side (Vibraphone and Teno...</td>\n      <td>32</td>\n      <td>8A</td>\n      <td>72.0</td>\n      <td>A Minor</td>\n      <td>0.901000</td>\n      <td>0.461</td>\n      <td>0.785000</td>\n      <td>0.1050</td>\n      <td>-15.165</td>\n      <td>0.615</td>\n      <td>0.2160</td>\n      <td>66823113</td>\n    </tr>\n    <tr>\n      <th>8</th>\n      <td>NO Drums Jazz - Background Music for Ordering In</td>\n      <td>background</td>\n      <td>['Manhattan Steakhouse Music']</td>\n      <td>Peaceful Vibes for Working Remotely</td>\n      <td>2</td>\n      <td>5A</td>\n      <td>129.0</td>\n      <td>C Minor</td>\n      <td>0.945000</td>\n      <td>0.407</td>\n      <td>0.943000</td>\n      <td>0.1120</td>\n      <td>-19.848</td>\n      <td>0.553</td>\n      <td>0.1520</td>\n      <td>66823119</td>\n    </tr>\n    <tr>\n      <th>9</th>\n      <td>Jazz Duo - Background for Telecommuting</td>\n      <td>background</td>\n      <td>['Manhattan Steakhouse Music']</td>\n      <td>Peaceful Vibes for Working Remotely</td>\n      <td>4</td>\n      <td>8B</td>\n      <td>131.0</td>\n      <td>C Major</td>\n      <td>0.959000</td>\n      <td>0.219</td>\n      <td>0.938000</td>\n      <td>0.1120</td>\n      <td>-18.749</td>\n      <td>0.605</td>\n      <td>0.2040</td>\n      <td>66823117</td>\n    </tr>\n    <tr>\n      <th>0</th>\n      <td>Ghostchild (feat. Spree Wilson)</td>\n      <td>dance</td>\n      <td>['Firebeatz', 'Apster', 'Spree Wilson']</td>\n      <td>Ghostchild (feat. Spree Wilson)</td>\n      <td>18</td>\n      <td>2A</td>\n      <td>128.0</td>\n      <td>E♭ Minor</td>\n      <td>0.022200</td>\n      <td>0.369</td>\n      <td>0.000026</td>\n      <td>0.0506</td>\n      <td>-5.490</td>\n      <td>0.656</td>\n      <td>0.8580</td>\n      <td>25854649</td>\n    </tr>\n    <tr>\n      <th>1</th>\n      <td>Hero (Satellite) - Radio Edit</td>\n      <td>dance</td>\n      <td>['Breathe Carolina', 'Y&amp;V']</td>\n      <td>Hero (Satellite) [Radio Edit]</td>\n      <td>19</td>\n      <td>7A</td>\n      <td>128.0</td>\n      <td>D Minor</td>\n      <td>0.046400</td>\n      <td>0.204</td>\n      <td>0.376000</td>\n      <td>0.3250</td>\n      <td>-7.487</td>\n      <td>0.629</td>\n      <td>0.7800</td>\n      <td>25218063</td>\n    </tr>\n    <tr>\n      <th>2</th>\n      <td>First</td>\n      <td>dance</td>\n      <td>['1RDJ']</td>\n      <td>First</td>\n      <td>6</td>\n      <td>10B</td>\n      <td>126.0</td>\n      <td>D Major</td>\n      <td>0.000490</td>\n      <td>0.330</td>\n      <td>0.937000</td>\n      <td>0.3300</td>\n      <td>-4.535</td>\n      <td>0.620</td>\n      <td>0.9450</td>\n      <td>24828826</td>\n    </tr>\n    <tr>\n      <th>3</th>\n      <td>Lovestruck - Radio Edit</td>\n      <td>dance</td>\n      <td>['Borgeous', 'Mike Hawkins']</td>\n      <td>Lovestruck</td>\n      <td>28</td>\n      <td>3B</td>\n      <td>128.0</td>\n      <td>C# Major</td>\n      <td>0.001560</td>\n      <td>0.164</td>\n      <td>0.784000</td>\n      <td>0.4070</td>\n      <td>-6.721</td>\n      <td>0.632</td>\n      <td>0.9130</td>\n      <td>24828803</td>\n    </tr>\n    <tr>\n      <th>4</th>\n      <td>Wake Up - Radio Edit</td>\n      <td>dance</td>\n      <td>['Jay Hardway']</td>\n      <td>Wake Up (Radio Edit)</td>\n      <td>36</td>\n      <td>1A</td>\n      <td>128.0</td>\n      <td>A♭ Minor</td>\n      <td>0.017700</td>\n      <td>0.581</td>\n      <td>0.208000</td>\n      <td>0.1860</td>\n      <td>-5.622</td>\n      <td>0.549</td>\n      <td>0.8600</td>\n      <td>24768362</td>\n    </tr>\n    <tr>\n      <th>5</th>\n      <td>TENGU</td>\n      <td>dance</td>\n      <td>['Matisse &amp; Sadko', 'Vigel']</td>\n      <td>TENGU</td>\n      <td>17</td>\n      <td>7B</td>\n      <td>128.0</td>\n      <td>F Major</td>\n      <td>0.007160</td>\n      <td>0.377</td>\n      <td>0.936000</td>\n      <td>0.3500</td>\n      <td>-3.960</td>\n      <td>0.376</td>\n      <td>0.9690</td>\n      <td>25515558</td>\n    </tr>\n    <tr>\n      <th>6</th>\n      <td>Booty Bounce - Extended Mix</td>\n      <td>dance</td>\n      <td>['Tujamo', 'Taio Cruz']</td>\n      <td>Booty Bounce</td>\n      <td>39</td>\n      <td>6A</td>\n      <td>128.0</td>\n      <td>G Minor</td>\n      <td>0.023500</td>\n      <td>0.793</td>\n      <td>0.000043</td>\n      <td>0.0823</td>\n      <td>-1.563</td>\n      <td>0.753</td>\n      <td>0.9700</td>\n      <td>26293899</td>\n    </tr>\n    <tr>\n      <th>7</th>\n      <td>Live Your Life - Radio Edit</td>\n      <td>dance</td>\n      <td>['Headhunterz', 'Crystal Lake']</td>\n      <td>Live Your Life</td>\n      <td>47</td>\n      <td>11A</td>\n      <td>130.0</td>\n      <td>F# Minor</td>\n      <td>0.005700</td>\n      <td>0.304</td>\n      <td>0.001550</td>\n      <td>0.0842</td>\n      <td>-3.192</td>\n      <td>0.485</td>\n      <td>0.8530</td>\n      <td>24442653</td>\n    </tr>\n    <tr>\n      <th>8</th>\n      <td>Zero Gravity (feat. Lights) - Radio Edit</td>\n      <td>dance</td>\n      <td>['Borgeous', 'Lights']</td>\n      <td>Zero Gravity (feat. Lights) [Radio Edit]</td>\n      <td>35</td>\n      <td>9A</td>\n      <td>130.0</td>\n      <td>E Minor</td>\n      <td>0.032700</td>\n      <td>0.142</td>\n      <td>0.000000</td>\n      <td>0.1210</td>\n      <td>-6.269</td>\n      <td>0.490</td>\n      <td>0.8090</td>\n      <td>24442720</td>\n    </tr>\n    <tr>\n      <th>9</th>\n      <td>Throw Your Hearts Up - Radio Edit</td>\n      <td>dance</td>\n      <td>['Juicy Trax', 'C. Todd Nielsen']</td>\n      <td>Throw Your Hearts Up (Radio Edit)</td>\n      <td>15</td>\n      <td>6A</td>\n      <td>128.0</td>\n      <td>G Minor</td>\n      <td>0.003060</td>\n      <td>0.152</td>\n      <td>0.000386</td>\n      <td>0.2420</td>\n      <td>-3.041</td>\n      <td>0.439</td>\n      <td>0.9200</td>\n      <td>24943100</td>\n    </tr>\n  </tbody>\n</table>\n</div>"
     },
     "execution_count": 18,
     "metadata": {},
     "output_type": "execute_result"
    }
   ],
   "source": [
    "songs_df"
   ],
   "metadata": {
    "collapsed": false,
    "ExecuteTime": {
     "end_time": "2024-01-07T11:15:17.378082300Z",
     "start_time": "2024-01-07T11:15:17.334751600Z"
    }
   }
  },
  {
   "cell_type": "code",
   "execution_count": 36,
   "outputs": [
    {
     "name": "stdout",
     "output_type": "stream",
     "text": [
      "0 Capitão de Areia\n",
      "1 Crystal Dolphin\n",
      "2 Where Is The Love_\n",
      "3 Take It Easy\n",
      "4 My Witch\n",
      "5 Riders On The Storm - Fredwreck Remix\n",
      "6 Imperial\n",
      "7 They Dead Wrong\n",
      "8 Believe Me _feat. Bobo _ Styles of Beyond_\n",
      "9 Fantasy _feat. O.D.B._ - Bad Boy Fantasy\n",
      "0 Willing to Party\n",
      "1 Crazy Deja Vu\n",
      "2 Dawn\n",
      "3 Can_t Wait To Find Me\n",
      "4 Party All Night\n",
      "5 _pt 1_\n",
      "6 Human Nature\n",
      "7 Narkotik Kal\n",
      "8 Музыка для бега\n",
      "9 Trance Your Mind\n",
      "0 Background for New Years Resolutions\n",
      "1 Jazz Duo - Background for Working Remotely\n",
      "2 Nu Jazz - Background Music for After Dinner Coffee\n",
      "3 Suave Music for Java Moments\n",
      "4 Suave Atmosphere for All Night Study Sessions\n",
      "5 Background Jazz\n",
      "6 Background Jazz for your New Home Office\n",
      "7 Vivacious Backdrops for Tribeca\n",
      "8 NO Drums Jazz - Background Music for Ordering In\n",
      "9 Jazz Duo - Background for Telecommuting\n",
      "0 Ghostchild _feat. Spree Wilson_\n",
      "1 Hero _Satellite_ - Radio Edit\n",
      "2 First\n",
      "3 Lovestruck - Radio Edit\n",
      "4 Wake Up - Radio Edit\n",
      "5 TENGU\n",
      "6 Booty Bounce - Extended Mix\n",
      "7 Live Your Life - Radio Edit\n",
      "8 Zero Gravity _feat. Lights_ - Radio Edit\n",
      "9 Throw Your Hearts Up - Radio Edit\n"
     ]
    }
   ],
   "source": [
    "for i, song in songs_df.iterrows():\n",
    "    title = re.sub(r'[^\\w_. -]', '_', song[\"title\"])\n",
    "    label = song[\"label\"]\n",
    "    yt_id = song[\"yt_id\"]\n",
    "\n",
    "    os.makedirs(f\"songs/{label}\", exist_ok=True)\n",
    "    download_track(yt_id, f\"songs/{label}/{title}.mp3\")\n",
    "\n",
    "    print(i, title)"
   ],
   "metadata": {
    "collapsed": false,
    "ExecuteTime": {
     "end_time": "2024-01-07T12:26:52.537985Z",
     "start_time": "2024-01-07T12:26:12.490189700Z"
    }
   }
  },
  {
   "cell_type": "markdown",
   "source": [
    "### Mini EDA Аудио датасета\n",
    "\n",
    "Читаем папки аудио файлов"
   ],
   "metadata": {
    "collapsed": false
   }
  },
  {
   "cell_type": "code",
   "execution_count": 43,
   "outputs": [
    {
     "name": "stdout",
     "output_type": "stream",
     "text": [
      "background\n",
      "--- Background for New Years Resolutions.mp3\n",
      "--- Background Jazz for your New Home Office.mp3\n",
      "--- Background Jazz.mp3\n",
      "--- Jazz Duo - Background for Telecommuting.mp3\n",
      "--- Jazz Duo - Background for Working Remotely.mp3\n",
      "--- NO Drums Jazz - Background Music for Ordering In.mp3\n",
      "--- Nu Jazz - Background Music for After Dinner Coffee.mp3\n",
      "--- Suave Atmosphere for All Night Study Sessions.mp3\n",
      "--- Suave Music for Java Moments.mp3\n",
      "--- Vivacious Backdrops for Tribeca.mp3\n",
      "dance\n",
      "--- Booty Bounce - Extended Mix.mp3\n",
      "--- First.mp3\n",
      "--- Ghostchild _feat. Spree Wilson_.mp3\n",
      "--- Hero _Satellite_ - Radio Edit.mp3\n",
      "--- Live Your Life - Radio Edit.mp3\n",
      "--- Lovestruck - Radio Edit.mp3\n"
     ]
    },
    {
     "name": "stderr",
     "output_type": "stream",
     "text": [
      "C:\\Users\\user\\AppData\\Local\\Temp\\ipykernel_8224\\1372107231.py:11: FutureWarning: get_duration() keyword argument 'filename' has been renamed to 'path' in version 0.10.0.\n",
      "\tThis alias will be removed in version 1.0.\n",
      "  dur = librosa.get_duration(filename=song.path)\n"
     ]
    },
    {
     "name": "stdout",
     "output_type": "stream",
     "text": [
      "--- TENGU.mp3\n",
      "--- Throw Your Hearts Up - Radio Edit.mp3\n",
      "--- Wake Up - Radio Edit.mp3\n",
      "--- Zero Gravity _feat. Lights_ - Radio Edit.mp3\n",
      "sport\n",
      "--- Can_t Wait To Find Me.mp3\n",
      "--- Crazy Deja Vu.mp3\n",
      "--- Dawn.mp3\n",
      "--- Human Nature.mp3\n",
      "--- Narkotik Kal.mp3\n",
      "--- Party All Night.mp3\n",
      "--- Trance Your Mind.mp3\n",
      "--- Willing to Party.mp3\n",
      "--- _pt 1_.mp3\n",
      "--- Музыка для бега.mp3\n",
      "upbeat\n",
      "--- Believe Me _feat. Bobo _ Styles of Beyond_.mp3\n",
      "--- Capitão de Areia.mp3\n",
      "--- Crystal Dolphin.mp3\n",
      "--- Fantasy _feat. O.D.B._ - Bad Boy Fantasy.mp3\n",
      "--- Imperial.mp3\n",
      "--- My Witch.mp3\n",
      "--- Riders On The Storm - Fredwreck Remix.mp3\n",
      "--- Take It Easy.mp3\n",
      "--- They Dead Wrong.mp3\n",
      "--- Where Is The Love_.mp3\n"
     ]
    }
   ],
   "source": [
    "song_dir = os.scandir(\"songs\")\n",
    "dur_dict = {}\n",
    "for i, sub_set in enumerate(song_dir):\n",
    "    if not os.path.isdir(sub_set.path):\n",
    "        continue\n",
    "    print(sub_set.name)\n",
    "    dur_dict[sub_set.name] = {}\n",
    "    label_dir = os.scandir(sub_set.path)\n",
    "    for j, song in enumerate(label_dir):\n",
    "        print(\"---\", song.name)\n",
    "        dur = librosa.get_duration(filename=song.path)\n",
    "        dur_dict[sub_set.name][song.name] = dur"
   ],
   "metadata": {
    "collapsed": false,
    "ExecuteTime": {
     "end_time": "2024-01-07T12:53:21.891342100Z",
     "start_time": "2024-01-07T12:53:21.382068500Z"
    }
   }
  },
  {
   "cell_type": "code",
   "execution_count": 51,
   "outputs": [
    {
     "data": {
      "text/plain": "<Figure size 640x480 with 1 Axes>",
      "image/png": "[encoded data removed]"
     },
     "metadata": {},
     "output_type": "display_data"
    }
   ],
   "source": [
    "import matplotlib.pyplot as plt\n",
    "\n",
    "plt.bar(range(10), dur_dict[\"dance\"].values(), color='g')\n",
    "plt.bar(range(10,20), dur_dict[\"sport\"].values(), color='r')\n",
    "plt.bar(range(20,30), dur_dict[\"upbeat\"].values(), color='y')\n",
    "plt.bar(range(30,40), dur_dict[\"background\"].values(), color='b')\n",
    "plt.legend(dur_dict.keys())\n",
    "plt.xlabel(\"song\")\n",
    "plt.ylabel(\"time in seconds\")\n",
    "plt.show()"
   ],
   "metadata": {
    "collapsed": false,
    "ExecuteTime": {
     "end_time": "2024-01-07T13:05:39.382145Z",
     "start_time": "2024-01-07T13:05:39.171956700Z"
    }
   }
  },
  {
   "cell_type": "markdown",
   "source": [
    "### Применение аудио данных\n",
    "\n",
    "В многих рекомендательных системах используется encoding контента, и применение embedding песен. Можно взять спектрограмму песен, или из неё сделать вектор, и помимо табличных данных использовать в качестве входных данных модели рекомендаций"
   ],
   "metadata": {
    "collapsed": false
   }
  },
  {
   "cell_type": "markdown",
   "source": [
    "# Текстовые данные\n",
    "Также по API Яндекс Музыки можем получить текст песен"
   ],
   "metadata": {
    "collapsed": false
   }
  },
  {
   "cell_type": "code",
   "execution_count": 52,
   "outputs": [
    {
     "name": "stdout",
     "output_type": "stream",
     "text": [
      "0 Capitão de Areia\n",
      "1 Crystal Dolphin\n",
      "2 Where Is The Love_\n",
      "3 Take It Easy\n",
      "4 My Witch\n",
      "5 Riders On The Storm - Fredwreck Remix\n",
      "Текст песни отсутствует\n",
      "6 Imperial\n",
      "Текст песни отсутствует\n",
      "7 They Dead Wrong\n",
      "8 Believe Me _feat. Bobo _ Styles of Beyond_\n",
      "9 Fantasy _feat. O.D.B._ - Bad Boy Fantasy\n",
      "Текст песни отсутствует\n",
      "0 Willing to Party\n",
      "Текст песни отсутствует\n",
      "1 Crazy Deja Vu\n",
      "Текст песни отсутствует\n",
      "2 Dawn\n",
      "Текст песни отсутствует\n",
      "3 Can_t Wait To Find Me\n",
      "Текст песни отсутствует\n",
      "4 Party All Night\n",
      "Текст песни отсутствует\n",
      "5 _pt 1_\n",
      "Текст песни отсутствует\n",
      "6 Human Nature\n",
      "Текст песни отсутствует\n",
      "7 Narkotik Kal\n",
      "Текст песни отсутствует\n",
      "8 Музыка для бега\n",
      "Текст песни отсутствует\n",
      "9 Trance Your Mind\n",
      "Текст песни отсутствует\n",
      "0 Background for New Years Resolutions\n",
      "Текст песни отсутствует\n",
      "1 Jazz Duo - Background for Working Remotely\n",
      "Текст песни отсутствует\n",
      "2 Nu Jazz - Background Music for After Dinner Coffee\n",
      "Текст песни отсутствует\n",
      "3 Suave Music for Java Moments\n",
      "Текст песни отсутствует\n",
      "4 Suave Atmosphere for All Night Study Sessions\n",
      "Текст песни отсутствует\n",
      "5 Background Jazz\n",
      "Текст песни отсутствует\n",
      "6 Background Jazz for your New Home Office\n",
      "Текст песни отсутствует\n",
      "7 Vivacious Backdrops for Tribeca\n",
      "Текст песни отсутствует\n",
      "8 NO Drums Jazz - Background Music for Ordering In\n",
      "Текст песни отсутствует\n",
      "9 Jazz Duo - Background for Telecommuting\n",
      "0 Ghostchild _feat. Spree Wilson_\n",
      "Текст песни отсутствует\n",
      "1 Hero _Satellite_ - Radio Edit\n",
      "Текст песни отсутствует\n",
      "2 First\n",
      "Текст песни отсутствует\n",
      "3 Lovestruck - Radio Edit\n",
      "Текст песни отсутствует\n",
      "4 Wake Up - Radio Edit\n",
      "Текст песни отсутствует\n",
      "5 TENGU\n",
      "6 Booty Bounce - Extended Mix\n",
      "Текст песни отсутствует\n",
      "7 Live Your Life - Radio Edit\n",
      "Текст песни отсутствует\n",
      "8 Zero Gravity _feat. Lights_ - Radio Edit\n",
      "Текст песни отсутствует\n",
      "9 Throw Your Hearts Up - Radio Edit\n"
     ]
    }
   ],
   "source": [
    "from parser.yandex import get_lyrics\n",
    "\n",
    "lyrics = []\n",
    "\n",
    "for i, song in songs_df.iterrows():\n",
    "    title = re.sub(r'[^\\w_. -]', '_', song[\"title\"])\n",
    "    label = song[\"label\"]\n",
    "    yt_id = song[\"yt_id\"]\n",
    "\n",
    "    text = get_lyrics(yt_id)\n",
    "    lyrics.append(text)\n",
    "\n",
    "    print(i, title)"
   ],
   "metadata": {
    "collapsed": false,
    "ExecuteTime": {
     "end_time": "2024-01-07T13:32:19.213175100Z",
     "start_time": "2024-01-07T13:32:08.474290700Z"
    }
   }
  },
  {
   "cell_type": "code",
   "execution_count": 61,
   "outputs": [
    {
     "data": {
      "text/plain": "                title              album              artists   label\n0    Capitão de Areia   Capitão De Areia       ['Afterclapp']  upbeat\n1     Crystal Dolphin           Crust FM        ['Engelwood']  upbeat\n2  Where Is The Love?           Elephunk  ['Black Eyed Peas']  upbeat\n3        Take It Easy       Take It Easy       ['Batu Boris']  upbeat\n4            My Witch  Sinner's Syndrome        ['Moderator']  upbeat",
      "text/html": "<div>\n<style scoped>\n    .dataframe tbody tr th:only-of-type {\n        vertical-align: middle;\n    }\n\n    .dataframe tbody tr th {\n        vertical-align: top;\n    }\n\n    .dataframe thead th {\n        text-align: right;\n    }\n</style>\n<table border=\"1\" class=\"dataframe\">\n  <thead>\n    <tr style=\"text-align: right;\">\n      <th></th>\n      <th>title</th>\n      <th>album</th>\n      <th>artists</th>\n      <th>label</th>\n    </tr>\n  </thead>\n  <tbody>\n    <tr>\n      <th>0</th>\n      <td>Capitão de Areia</td>\n      <td>Capitão De Areia</td>\n      <td>['Afterclapp']</td>\n      <td>upbeat</td>\n    </tr>\n    <tr>\n      <th>1</th>\n      <td>Crystal Dolphin</td>\n      <td>Crust FM</td>\n      <td>['Engelwood']</td>\n      <td>upbeat</td>\n    </tr>\n    <tr>\n      <th>2</th>\n      <td>Where Is The Love?</td>\n      <td>Elephunk</td>\n      <td>['Black Eyed Peas']</td>\n      <td>upbeat</td>\n    </tr>\n    <tr>\n      <th>3</th>\n      <td>Take It Easy</td>\n      <td>Take It Easy</td>\n      <td>['Batu Boris']</td>\n      <td>upbeat</td>\n    </tr>\n    <tr>\n      <th>4</th>\n      <td>My Witch</td>\n      <td>Sinner's Syndrome</td>\n      <td>['Moderator']</td>\n      <td>upbeat</td>\n    </tr>\n  </tbody>\n</table>\n</div>"
     },
     "execution_count": 61,
     "metadata": {},
     "output_type": "execute_result"
    }
   ],
   "source": [
    "songs_lyrics_df = songs_df[[\"title\", \"album\", \"artists\", \"label\"]]\n",
    "songs_lyrics_df.head()"
   ],
   "metadata": {
    "collapsed": false,
    "ExecuteTime": {
     "end_time": "2024-01-07T13:35:18.407610Z",
     "start_time": "2024-01-07T13:35:18.382002800Z"
    }
   }
  },
  {
   "cell_type": "code",
   "execution_count": 62,
   "outputs": [
    {
     "data": {
      "text/plain": "                                               title  \\\n0                                   Capitão de Areia   \n1                                    Crystal Dolphin   \n2                                 Where Is The Love?   \n3                                       Take It Easy   \n4                                           My Witch   \n5              Riders On The Storm - Fredwreck Remix   \n6                                           Imperial   \n7                                    They Dead Wrong   \n8         Believe Me (feat. Bobo & Styles of Beyond)   \n9           Fantasy (feat. O.D.B.) - Bad Boy Fantasy   \n0                                   Willing to Party   \n1                                      Crazy Deja Vu   \n2                                               Dawn   \n3                              Can't Wait To Find Me   \n4                                    Party All Night   \n5                                             (pt 1)   \n6                                       Human Nature   \n7                                       Narkotik Kal   \n8                                    Музыка для бега   \n9                                   Trance Your Mind   \n0               Background for New Years Resolutions   \n1         Jazz Duo - Background for Working Remotely   \n2  Nu Jazz - Background Music for After Dinner Co...   \n3                       Suave Music for Java Moments   \n4      Suave Atmosphere for All Night Study Sessions   \n5                                    Background Jazz   \n6           Background Jazz for your New Home Office   \n7                    Vivacious Backdrops for Tribeca   \n8   NO Drums Jazz - Background Music for Ordering In   \n9            Jazz Duo - Background for Telecommuting   \n0                    Ghostchild (feat. Spree Wilson)   \n1                      Hero (Satellite) - Radio Edit   \n2                                              First   \n3                            Lovestruck - Radio Edit   \n4                               Wake Up - Radio Edit   \n5                                              TENGU   \n6                        Booty Bounce - Extended Mix   \n7                        Live Your Life - Radio Edit   \n8           Zero Gravity (feat. Lights) - Radio Edit   \n9                  Throw Your Hearts Up - Radio Edit   \n\n                                               album  \\\n0                                   Capitão De Areia   \n1                                           Crust FM   \n2                                           Elephunk   \n3                                       Take It Easy   \n4                                  Sinner's Syndrome   \n5              Riders On The Storm (Fredwreck Remix)   \n6                                           Prodigal   \n7                                 Special East Coast   \n8                                    The Rising Tied   \n9                                         Fantasy EP   \n0                                               Move   \n1                               Hot Fitness Mix 2017   \n2                                               Move   \n3                               Hot Fitness Mix 2017   \n4                               Hot Fitness Mix 2017   \n5                               10 Tracks To Fitness   \n6                                 Physical Gym Music   \n7                                  The Album (Mixed)   \n8          Музыка для Фитнеса Тренировка Бег и Спорт   \n9                                               Move   \n0  Happy Music for Remote Work - Big Band with Vi...   \n1                             Soundscape for Siestas   \n2                   Soundscapes for Afternoon Coffee   \n3  Guitar Chill Out - Background Music for Mornin...   \n4             Jazzhop Lofi - Ambiance for Depression   \n5                   Instrumental Coffee Jazz Moments   \n6  Working from Home - Background Jazz for your N...   \n7  Music for Lower East Side (Vibraphone and Teno...   \n8                Peaceful Vibes for Working Remotely   \n9                Peaceful Vibes for Working Remotely   \n0                    Ghostchild (feat. Spree Wilson)   \n1                      Hero (Satellite) [Radio Edit]   \n2                                              First   \n3                                         Lovestruck   \n4                               Wake Up (Radio Edit)   \n5                                              TENGU   \n6                                       Booty Bounce   \n7                                     Live Your Life   \n8           Zero Gravity (feat. Lights) [Radio Edit]   \n9                  Throw Your Hearts Up (Radio Edit)   \n\n                                              lyrics  \\\n0  Garoto abandonado na Bahia é capitão de areia\\...   \n1  Hora Dolphin\\nHora Dolphan\\nHora Dolphin, Dolp...   \n2  What's wrong with the world, mama?\\nPeople liv...   \n3  And I was going back and forth\\nBefore I made ...   \n4  Loveable, she's good and bad\\nMess around and ...   \n5  Hey yo Jim man\\nWhy don't ya\\nYou don't you ki...   \n6                                               None   \n7                                               None   \n8  I guess that this is where we've come to\\nIf y...   \n9  Yeah\\nKeepin' it real, son\\nOooooooh\\nThat's r...   \n0                                               None   \n1                                               None   \n2                                               None   \n3                                               None   \n4                                               None   \n5                                               None   \n6                                               None   \n7                                               None   \n8                                               None   \n9                                               None   \n0                                               None   \n1                                               None   \n2                                               None   \n3                                               None   \n4                                               None   \n5                                               None   \n6                                               None   \n7                                               None   \n8                                               None   \n9                                               None   \n0  I see you're walking through the walls bae\\nYo...   \n1                                               None   \n2                                               None   \n3                                               None   \n4                                               None   \n5                                               None   \n6  I'm looking around and this booty everywhere\\n...   \n7                                               None   \n8                                               None   \n9                                               None   \n\n                                             artists       label  \n0                                     ['Afterclapp']      upbeat  \n1                                      ['Engelwood']      upbeat  \n2                                ['Black Eyed Peas']      upbeat  \n3                                     ['Batu Boris']      upbeat  \n4                                      ['Moderator']      upbeat  \n5                        ['Snoop Dogg', 'The Doors']      upbeat  \n6                                          ['j^p^n']      upbeat  \n7                     ['Slivanoë', 'Tour De Manège']      upbeat  \n8         ['Fort Minor', 'Bobo', 'Styles Of Beyond']      upbeat  \n9              ['Mariah Carey', \"Ol' Dirty Bastard\"]      upbeat  \n0  ['Gym Music', 'The Gym Allstars', 'Training Mo...       sport  \n1   ['Gym Music', 'Gym Workout', 'The Gym Allstars']       sport  \n2  ['Gym Music', 'The Gym Allstars', 'Training Mo...       sport  \n3   ['Gym Music', 'Gym Workout', 'The Gym Allstars']       sport  \n4   ['Gym Music', 'Gym Workout', 'The Gym Allstars']       sport  \n5   ['Gym Music', 'Gym Workout', 'The Gym Allstars']       sport  \n6   ['Gym Music', 'Gym Workout', 'The Gym Allstars']       sport  \n7                               ['Hard Bass School']       sport  \n8                                          ['Naell']       sport  \n9  ['Gym Music', 'The Gym Allstars', 'Training Mo...       sport  \n0                         ['Instrumental Soft Jazz']  background  \n1                     ['Soft Jazz Background Music']  background  \n2                         ['Coffee Shop Jazz Relax']  background  \n3                           ['Smooth Jazz New York']  background  \n4                          ['Lofi Background Music']  background  \n5                        ['Instrumental Music Cafe']  background  \n6                            ['Coffeehouse Quartet']  background  \n7                            ['Manhattan Jazz Band']  background  \n8                     ['Manhattan Steakhouse Music']  background  \n9                     ['Manhattan Steakhouse Music']  background  \n0            ['Firebeatz', 'Apster', 'Spree Wilson']       dance  \n1                        ['Breathe Carolina', 'Y&V']       dance  \n2                                           ['1RDJ']       dance  \n3                       ['Borgeous', 'Mike Hawkins']       dance  \n4                                    ['Jay Hardway']       dance  \n5                       ['Matisse & Sadko', 'Vigel']       dance  \n6                            ['Tujamo', 'Taio Cruz']       dance  \n7                    ['Headhunterz', 'Crystal Lake']       dance  \n8                             ['Borgeous', 'Lights']       dance  \n9                  ['Juicy Trax', 'C. Todd Nielsen']       dance  ",
      "text/html": "<div>\n<style scoped>\n    .dataframe tbody tr th:only-of-type {\n        vertical-align: middle;\n    }\n\n    .dataframe tbody tr th {\n        vertical-align: top;\n    }\n\n    .dataframe thead th {\n        text-align: right;\n    }\n</style>\n<table border=\"1\" class=\"dataframe\">\n  <thead>\n    <tr style=\"text-align: right;\">\n      <th></th>\n      <th>title</th>\n      <th>album</th>\n      <th>lyrics</th>\n      <th>artists</th>\n      <th>label</th>\n    </tr>\n  </thead>\n  <tbody>\n    <tr>\n      <th>0</th>\n      <td>Capitão de Areia</td>\n      <td>Capitão De Areia</td>\n      <td>Garoto abandonado na Bahia é capitão de areia\\...</td>\n      <td>['Afterclapp']</td>\n      <td>upbeat</td>\n    </tr>\n    <tr>\n      <th>1</th>\n      <td>Crystal Dolphin</td>\n      <td>Crust FM</td>\n      <td>Hora Dolphin\\nHora Dolphan\\nHora Dolphin, Dolp...</td>\n      <td>['Engelwood']</td>\n      <td>upbeat</td>\n    </tr>\n    <tr>\n      <th>2</th>\n      <td>Where Is The Love?</td>\n      <td>Elephunk</td>\n      <td>What's wrong with the world, mama?\\nPeople liv...</td>\n      <td>['Black Eyed Peas']</td>\n      <td>upbeat</td>\n    </tr>\n    <tr>\n      <th>3</th>\n      <td>Take It Easy</td>\n      <td>Take It Easy</td>\n      <td>And I was going back and forth\\nBefore I made ...</td>\n      <td>['Batu Boris']</td>\n      <td>upbeat</td>\n    </tr>\n    <tr>\n      <th>4</th>\n      <td>My Witch</td>\n      <td>Sinner's Syndrome</td>\n      <td>Loveable, she's good and bad\\nMess around and ...</td>\n      <td>['Moderator']</td>\n      <td>upbeat</td>\n    </tr>\n    <tr>\n      <th>5</th>\n      <td>Riders On The Storm - Fredwreck Remix</td>\n      <td>Riders On The Storm (Fredwreck Remix)</td>\n      <td>Hey yo Jim man\\nWhy don't ya\\nYou don't you ki...</td>\n      <td>['Snoop Dogg', 'The Doors']</td>\n      <td>upbeat</td>\n    </tr>\n    <tr>\n      <th>6</th>\n      <td>Imperial</td>\n      <td>Prodigal</td>\n      <td>None</td>\n      <td>['j^p^n']</td>\n      <td>upbeat</td>\n    </tr>\n    <tr>\n      <th>7</th>\n      <td>They Dead Wrong</td>\n      <td>Special East Coast</td>\n      <td>None</td>\n      <td>['Slivanoë', 'Tour De Manège']</td>\n      <td>upbeat</td>\n    </tr>\n    <tr>\n      <th>8</th>\n      <td>Believe Me (feat. Bobo &amp; Styles of Beyond)</td>\n      <td>The Rising Tied</td>\n      <td>I guess that this is where we've come to\\nIf y...</td>\n      <td>['Fort Minor', 'Bobo', 'Styles Of Beyond']</td>\n      <td>upbeat</td>\n    </tr>\n    <tr>\n      <th>9</th>\n      <td>Fantasy (feat. O.D.B.) - Bad Boy Fantasy</td>\n      <td>Fantasy EP</td>\n      <td>Yeah\\nKeepin' it real, son\\nOooooooh\\nThat's r...</td>\n      <td>['Mariah Carey', \"Ol' Dirty Bastard\"]</td>\n      <td>upbeat</td>\n    </tr>\n    <tr>\n      <th>0</th>\n      <td>Willing to Party</td>\n      <td>Move</td>\n      <td>None</td>\n      <td>['Gym Music', 'The Gym Allstars', 'Training Mo...</td>\n      <td>sport</td>\n    </tr>\n    <tr>\n      <th>1</th>\n      <td>Crazy Deja Vu</td>\n      <td>Hot Fitness Mix 2017</td>\n      <td>None</td>\n      <td>['Gym Music', 'Gym Workout', 'The Gym Allstars']</td>\n      <td>sport</td>\n    </tr>\n    <tr>\n      <th>2</th>\n      <td>Dawn</td>\n      <td>Move</td>\n      <td>None</td>\n      <td>['Gym Music', 'The Gym Allstars', 'Training Mo...</td>\n      <td>sport</td>\n    </tr>\n    <tr>\n      <th>3</th>\n      <td>Can't Wait To Find Me</td>\n      <td>Hot Fitness Mix 2017</td>\n      <td>None</td>\n      <td>['Gym Music', 'Gym Workout', 'The Gym Allstars']</td>\n      <td>sport</td>\n    </tr>\n    <tr>\n      <th>4</th>\n      <td>Party All Night</td>\n      <td>Hot Fitness Mix 2017</td>\n      <td>None</td>\n      <td>['Gym Music', 'Gym Workout', 'The Gym Allstars']</td>\n      <td>sport</td>\n    </tr>\n    <tr>\n      <th>5</th>\n      <td>(pt 1)</td>\n      <td>10 Tracks To Fitness</td>\n      <td>None</td>\n      <td>['Gym Music', 'Gym Workout', 'The Gym Allstars']</td>\n      <td>sport</td>\n    </tr>\n    <tr>\n      <th>6</th>\n      <td>Human Nature</td>\n      <td>Physical Gym Music</td>\n      <td>None</td>\n      <td>['Gym Music', 'Gym Workout', 'The Gym Allstars']</td>\n      <td>sport</td>\n    </tr>\n    <tr>\n      <th>7</th>\n      <td>Narkotik Kal</td>\n      <td>The Album (Mixed)</td>\n      <td>None</td>\n      <td>['Hard Bass School']</td>\n      <td>sport</td>\n    </tr>\n    <tr>\n      <th>8</th>\n      <td>Музыка для бега</td>\n      <td>Музыка для Фитнеса Тренировка Бег и Спорт</td>\n      <td>None</td>\n      <td>['Naell']</td>\n      <td>sport</td>\n    </tr>\n    <tr>\n      <th>9</th>\n      <td>Trance Your Mind</td>\n      <td>Move</td>\n      <td>None</td>\n      <td>['Gym Music', 'The Gym Allstars', 'Training Mo...</td>\n      <td>sport</td>\n    </tr>\n    <tr>\n      <th>0</th>\n      <td>Background for New Years Resolutions</td>\n      <td>Happy Music for Remote Work - Big Band with Vi...</td>\n      <td>None</td>\n      <td>['Instrumental Soft Jazz']</td>\n      <td>background</td>\n    </tr>\n    <tr>\n      <th>1</th>\n      <td>Jazz Duo - Background for Working Remotely</td>\n      <td>Soundscape for Siestas</td>\n      <td>None</td>\n      <td>['Soft Jazz Background Music']</td>\n      <td>background</td>\n    </tr>\n    <tr>\n      <th>2</th>\n      <td>Nu Jazz - Background Music for After Dinner Co...</td>\n      <td>Soundscapes for Afternoon Coffee</td>\n      <td>None</td>\n      <td>['Coffee Shop Jazz Relax']</td>\n      <td>background</td>\n    </tr>\n    <tr>\n      <th>3</th>\n      <td>Suave Music for Java Moments</td>\n      <td>Guitar Chill Out - Background Music for Mornin...</td>\n      <td>None</td>\n      <td>['Smooth Jazz New York']</td>\n      <td>background</td>\n    </tr>\n    <tr>\n      <th>4</th>\n      <td>Suave Atmosphere for All Night Study Sessions</td>\n      <td>Jazzhop Lofi - Ambiance for Depression</td>\n      <td>None</td>\n      <td>['Lofi Background Music']</td>\n      <td>background</td>\n    </tr>\n    <tr>\n      <th>5</th>\n      <td>Background Jazz</td>\n      <td>Instrumental Coffee Jazz Moments</td>\n      <td>None</td>\n      <td>['Instrumental Music Cafe']</td>\n      <td>background</td>\n    </tr>\n    <tr>\n      <th>6</th>\n      <td>Background Jazz for your New Home Office</td>\n      <td>Working from Home - Background Jazz for your N...</td>\n      <td>None</td>\n      <td>['Coffeehouse Quartet']</td>\n      <td>background</td>\n    </tr>\n    <tr>\n      <th>7</th>\n      <td>Vivacious Backdrops for Tribeca</td>\n      <td>Music for Lower East Side (Vibraphone and Teno...</td>\n      <td>None</td>\n      <td>['Manhattan Jazz Band']</td>\n      <td>background</td>\n    </tr>\n    <tr>\n      <th>8</th>\n      <td>NO Drums Jazz - Background Music for Ordering In</td>\n      <td>Peaceful Vibes for Working Remotely</td>\n      <td>None</td>\n      <td>['Manhattan Steakhouse Music']</td>\n      <td>background</td>\n    </tr>\n    <tr>\n      <th>9</th>\n      <td>Jazz Duo - Background for Telecommuting</td>\n      <td>Peaceful Vibes for Working Remotely</td>\n      <td>None</td>\n      <td>['Manhattan Steakhouse Music']</td>\n      <td>background</td>\n    </tr>\n    <tr>\n      <th>0</th>\n      <td>Ghostchild (feat. Spree Wilson)</td>\n      <td>Ghostchild (feat. Spree Wilson)</td>\n      <td>I see you're walking through the walls bae\\nYo...</td>\n      <td>['Firebeatz', 'Apster', 'Spree Wilson']</td>\n      <td>dance</td>\n    </tr>\n    <tr>\n      <th>1</th>\n      <td>Hero (Satellite) - Radio Edit</td>\n      <td>Hero (Satellite) [Radio Edit]</td>\n      <td>None</td>\n      <td>['Breathe Carolina', 'Y&amp;V']</td>\n      <td>dance</td>\n    </tr>\n    <tr>\n      <th>2</th>\n      <td>First</td>\n      <td>First</td>\n      <td>None</td>\n      <td>['1RDJ']</td>\n      <td>dance</td>\n    </tr>\n    <tr>\n      <th>3</th>\n      <td>Lovestruck - Radio Edit</td>\n      <td>Lovestruck</td>\n      <td>None</td>\n      <td>['Borgeous', 'Mike Hawkins']</td>\n      <td>dance</td>\n    </tr>\n    <tr>\n      <th>4</th>\n      <td>Wake Up - Radio Edit</td>\n      <td>Wake Up (Radio Edit)</td>\n      <td>None</td>\n      <td>['Jay Hardway']</td>\n      <td>dance</td>\n    </tr>\n    <tr>\n      <th>5</th>\n      <td>TENGU</td>\n      <td>TENGU</td>\n      <td>None</td>\n      <td>['Matisse &amp; Sadko', 'Vigel']</td>\n      <td>dance</td>\n    </tr>\n    <tr>\n      <th>6</th>\n      <td>Booty Bounce - Extended Mix</td>\n      <td>Booty Bounce</td>\n      <td>I'm looking around and this booty everywhere\\n...</td>\n      <td>['Tujamo', 'Taio Cruz']</td>\n      <td>dance</td>\n    </tr>\n    <tr>\n      <th>7</th>\n      <td>Live Your Life - Radio Edit</td>\n      <td>Live Your Life</td>\n      <td>None</td>\n      <td>['Headhunterz', 'Crystal Lake']</td>\n      <td>dance</td>\n    </tr>\n    <tr>\n      <th>8</th>\n      <td>Zero Gravity (feat. Lights) - Radio Edit</td>\n      <td>Zero Gravity (feat. Lights) [Radio Edit]</td>\n      <td>None</td>\n      <td>['Borgeous', 'Lights']</td>\n      <td>dance</td>\n    </tr>\n    <tr>\n      <th>9</th>\n      <td>Throw Your Hearts Up - Radio Edit</td>\n      <td>Throw Your Hearts Up (Radio Edit)</td>\n      <td>None</td>\n      <td>['Juicy Trax', 'C. Todd Nielsen']</td>\n      <td>dance</td>\n    </tr>\n  </tbody>\n</table>\n</div>"
     },
     "execution_count": 62,
     "metadata": {},
     "output_type": "execute_result"
    }
   ],
   "source": [
    "songs_lyrics_df.insert(2, \"lyrics\", lyrics, True)\n",
    "songs_lyrics_df.head(40)"
   ],
   "metadata": {
    "collapsed": false,
    "ExecuteTime": {
     "end_time": "2024-01-07T13:35:18.640371400Z",
     "start_time": "2024-01-07T13:35:18.627531800Z"
    }
   }
  },
  {
   "cell_type": "code",
   "execution_count": 59,
   "outputs": [
    {
     "data": {
      "text/plain": "30"
     },
     "execution_count": 59,
     "metadata": {},
     "output_type": "execute_result"
    }
   ],
   "source": [
    "songs_lyrics_df[\"lyrics\"].isna().sum()"
   ],
   "metadata": {
    "collapsed": false,
    "ExecuteTime": {
     "end_time": "2024-01-07T13:35:04.410668300Z",
     "start_time": "2024-01-07T13:35:04.372221200Z"
    }
   }
  },
  {
   "cell_type": "markdown",
   "source": [
    "Можно заметить что не во всех классах присутствует текст в песнях. Возможно если наш юзкейс — подобрать песни для мероприятия, например \"музыка про выпускной\" то датасет с текстом песен был бы более актуален. В [проекте](https://github.com/MulhamShaheen/AI-DJ) работаем с embedding токенизированного текста."
   ],
   "metadata": {
    "collapsed": false
   }
  }
 ],
 "metadata": {
  "kernelspec": {
   "display_name": "Python 3",
   "language": "python",
   "name": "python3"
  },
  "language_info": {
   "codemirror_mode": {
    "name": "ipython",
    "version": 2
   },
   "file_extension": ".py",
   "mimetype": "text/x-python",
   "name": "python",
   "nbconvert_exporter": "python",
   "pygments_lexer": "ipython2",
   "version": "2.7.6"
  }
 },
 "nbformat": 4,
 "nbformat_minor": 0
}
